{
  "nbformat": 4,
  "nbformat_minor": 0,
  "metadata": {
    "colab": {
      "name": "LAB2.ipynb",
      "provenance": [],
      "collapsed_sections": []
    },
    "kernelspec": {
      "name": "python3",
      "display_name": "Python 3"
    }
  },
  "cells": [
    {
      "cell_type": "markdown",
      "metadata": {
        "id": "xDEdWtdaWA9y"
      },
      "source": [
        " Write a program, which reads height(feet.) of Nstudents into a list and convert these heightsto cmin a separate list:N: No of students (Read input from user)Ex: L1: [5.2,5.4, 5.6, 6.1]Output: [158.4, 164.5, 170.6, 185.9]"
      ]
    },
    {
      "cell_type": "code",
      "metadata": {
        "id": "lihLmasYZ32D"
      },
      "source": [
        "def heightFeet(usrInput):\r\n",
        "  print('\\n')\r\n",
        "  lst = []\r\n",
        "  for h in range(usrInput):\r\n",
        "    height = float (input(\"Enter the height in feet only: \"))\r\n",
        "    lst.append(height)\r\n",
        "  return lst\r\n"
      ],
      "execution_count": 4,
      "outputs": []
    },
    {
      "cell_type": "code",
      "metadata": {
        "id": "TmQvrKCQbgVK"
      },
      "source": [
        "def conversion(feet_values):\r\n",
        "  print('\\n')\r\n",
        "  print(\"The converted values are: \", '\\n')\r\n",
        "  lst2 = []\r\n",
        "  for i in feet_values:\r\n",
        "    converted = i * 30.48\r\n",
        "    lst2.append(round(converted,1))\r\n",
        "\r\n",
        "  return lst2"
      ],
      "execution_count": 5,
      "outputs": []
    },
    {
      "cell_type": "code",
      "metadata": {
        "colab": {
          "base_uri": "https://localhost:8080/"
        },
        "id": "CUDzWjEWWVZ7",
        "outputId": "893005c2-4fd7-404e-b0f4-5a9f70d21c19"
      },
      "source": [
        "9\r\n",
        "lst = [] #creating a empty list \r\n",
        "\r\n",
        "n_height = int (input(\"How many heights do you want to enter?(Enter a integer: \")) #asks the user how many heights they would like to enter\r\n",
        "\r\n",
        "returned_values = heightFeet(n_height)\r\n",
        "\r\n",
        "conversion(returned_values)\r\n",
        "\r\n"
      ],
      "execution_count": 6,
      "outputs": [
        {
          "output_type": "stream",
          "text": [
            "How many heights do you want to enter?(Enter a integer: 5\n",
            "\n",
            "\n",
            "Enter the height in feet only: 1.4\n",
            "Enter the height in feet only: 3.5\n",
            "Enter the height in feet only: 4.4\n",
            "Enter the height in feet only: 1.3\n",
            "Enter the height in feet only: 5.5\n",
            "\n",
            "\n",
            "The converted values are:  \n",
            "\n"
          ],
          "name": "stdout"
        },
        {
          "output_type": "execute_result",
          "data": {
            "text/plain": [
              "[42.7, 106.7, 134.1, 39.6, 167.6]"
            ]
          },
          "metadata": {
            "tags": []
          },
          "execution_count": 6
        }
      ]
    },
    {
      "cell_type": "markdown",
      "metadata": {
        "id": "dtbxCgPygvzx"
      },
      "source": [
        "Given a non-negative integer num, return the number of steps to reduce it to zero. If the current number is even, you have to divide it by2, otherwise, you have to subtract 1 from it.\r\n"
      ]
    },
    {
      "cell_type": "code",
      "metadata": {
        "colab": {
          "base_uri": "https://localhost:8080/"
        },
        "id": "g7OxvJN6gygw",
        "outputId": "44e08012-9729-41dc-f48e-8b4a2545a2a0"
      },
      "source": [
        "usrNumber = int (input(\"Enter a non-negative number: \"))\r\n",
        "\r\n",
        "count = usrNumber\r\n",
        "step = 1\r\n",
        "\r\n",
        "while count != 0:\r\n",
        "  if (count % 2) == 0:\r\n",
        "    print(\"step {0}: \".format(step),\"{0} is even\".format(count))\r\n",
        "    count /= 2\r\n",
        "    step += 1\r\n",
        "  else:\r\n",
        "    print(\"step {0}: \".format(step),\"{0} is odd\".format(count))\r\n",
        "    count -= 1\r\n",
        "    step += 1\r\n",
        "print('\\n') \r\n",
        "print(\"Final output: \",count)"
      ],
      "execution_count": 7,
      "outputs": [
        {
          "output_type": "stream",
          "text": [
            "Enter a non-negative number: 15\n",
            "step 1:  15 is odd\n",
            "step 2:  14 is even\n",
            "step 3:  7.0 is odd\n",
            "step 4:  6.0 is even\n",
            "step 5:  3.0 is odd\n",
            "step 6:  2.0 is even\n",
            "step 7:  1.0 is odd\n",
            "\n",
            "\n",
            "Final output:  0.0\n"
          ],
          "name": "stdout"
        }
      ]
    },
    {
      "cell_type": "markdown",
      "metadata": {
        "id": "y92x3pR6pnuO"
      },
      "source": [
        "Write a python program to find the wordcountin a file for each line and thenprint the output.Finally store the output back to the file.Input:a file includes two linePython CourseDeep Learning Course "
      ]
    },
    {
      "cell_type": "code",
      "metadata": {
        "colab": {
          "base_uri": "https://localhost:8080/"
        },
        "id": "SECM3r1vpo85",
        "outputId": "5af45fd5-3b1a-4902-f16a-2c05323f11ba"
      },
      "source": [
        "wordCount = dict()\r\n",
        "\r\n",
        "textFile = \"/content/count.txt\"\r\n",
        "\r\n",
        "'''with open( \"/content/count.txt\",\"r\") as myFile:\r\n",
        "  for lines in myFile:\r\n",
        "    print(myFile[lines])'''\r\n",
        "\r\n",
        "f = open( \"count.txt\",\"r\") # reading file \r\n",
        "\r\n",
        "for lines in f: #looping through the file\r\n",
        "  lines = lines.strip() # removes spaces\r\n",
        "  lines = lines.lower() #lower cases everything \r\n",
        "  split_lines = lines.split(\" \") #returns a list of string after the sentence is split\r\n",
        "  print(split_lines)\r\n",
        "  print('\\n')\r\n",
        "\r\n",
        "  for word in split_lines: #for loop for the split senetnce \r\n",
        "    if word in wordCount:\r\n",
        "      wordCount[word] = wordCount[word] + 1 # if the word count is already added and find another + 1\r\n",
        "    else: \r\n",
        "      wordCount[word] = 1 #if the word hasn't been intailezed with 1 then + 1\r\n",
        "\r\n",
        "\r\n",
        "for i in list (wordCount.keys()): #output the keys\r\n",
        "  \r\n",
        "  print(i, \": \", wordCount[i])\r\n",
        "f.close()"
      ],
      "execution_count": 14,
      "outputs": [
        {
          "output_type": "stream",
          "text": [
            "['python', 'course']\n",
            "\n",
            "\n",
            "['deep', 'learning', 'course']\n",
            "\n",
            "\n",
            "python :  1\n",
            "course :  2\n",
            "deep :  1\n",
            "learning :  1\n"
          ],
          "name": "stdout"
        }
      ]
    },
    {
      "cell_type": "code",
      "metadata": {
        "colab": {
          "base_uri": "https://localhost:8080/"
        },
        "id": "hi9s_CoCK26Q",
        "outputId": "5058c0af-1b7f-4b0c-a1ca-8b1d65062e0e"
      },
      "source": [
        "print(wordCount)"
      ],
      "execution_count": 15,
      "outputs": [
        {
          "output_type": "stream",
          "text": [
            "{'python': 1, 'course': 2, 'deep': 1, 'learning': 1}\n"
          ],
          "name": "stdout"
        }
      ]
    },
    {
      "cell_type": "code",
      "metadata": {
        "id": "B_vwfELoK7Lq"
      },
      "source": [
        "output_F = open(\"output.txt\", \"w\") #creating a output file\r\n",
        "\r\n",
        "for k, v in wordCount.items():\r\n",
        "  output_F.write(str (k) + \":\" + str (v) + '\\n') #getting the keys and values \r\n",
        "\r\n",
        "output_F.close()\r\n",
        "  \r\n"
      ],
      "execution_count": 16,
      "outputs": []
    }
  ]
}